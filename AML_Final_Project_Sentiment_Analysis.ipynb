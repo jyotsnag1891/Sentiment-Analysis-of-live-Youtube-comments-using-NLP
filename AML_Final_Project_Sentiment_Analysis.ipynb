{
 "cells": [
  {
   "cell_type": "code",
   "execution_count": 807,
   "id": "6c4d4c9a",
   "metadata": {},
   "outputs": [],
   "source": [
    "#Import the libraries\n",
    "import time\n",
    "from selenium.webdriver import Chrome\n",
    "from selenium.webdriver.common.by import By\n",
    "from selenium.webdriver.common.keys import Keys\n",
    "from selenium.webdriver.support.ui import WebDriverWait\n",
    "from selenium.webdriver.support import expected_conditions as EC\n",
    "import pandas as pd\n",
    "from textblob import TextBlob\n",
    "from sklearn import metrics\n",
    "from langdetect import detect\n",
    "import nltk\n",
    "from nltk.corpus import stopwords\n",
    "from nltk import word_tokenize\n",
    "import string\n",
    "import re\n",
    "from sklearn.model_selection import train_test_split\n",
    "from sklearn.feature_extraction.text import CountVectorizer, TfidfVectorizer \n",
    "from sklearn.naive_bayes import MultinomialNB\n",
    "from sklearn.linear_model import LogisticRegression\n",
    "from sklearn.metrics import classification_report\n",
    "import warnings"
   ]
  },
  {
   "cell_type": "code",
   "execution_count": 808,
   "id": "10c72395",
   "metadata": {},
   "outputs": [],
   "source": [
    "#Ignore warnings\n",
    "warnings.filterwarnings(\"ignore\")"
   ]
  },
  {
   "cell_type": "code",
   "execution_count": 861,
   "id": "0c3a5ce2",
   "metadata": {},
   "outputs": [],
   "source": [
    "#Scraping the comments from Youtube videos\n",
    "pd.set_option('display.max_colwidth', 1000)\n",
    "\n",
    "with Chrome() as driver:\n",
    "    wait = WebDriverWait(driver, 100)\n",
    "    driver.get(\"https://www.youtube.com/watch?v=J1xSK3mPZ9k\")\n",
    "\n",
    "    for item in range(5): # by increasing the highest range you can get more content\n",
    "        wait.until(EC.visibility_of_element_located((By.TAG_NAME, \"body\"))).send_keys(Keys.END)\n",
    "        time.sleep(3)\n",
    "\n",
    "    comments = []\n",
    "    for comment in wait.until(EC.presence_of_all_elements_located((By.CSS_SELECTOR, \"#comment #content-text\"))):\n",
    "        comments.append(comment.text)\n",
    "\n",
    "    # Convert the comments list into a DataFrame\n",
    "    df = pd.DataFrame({'comments': comments})"
   ]
  },
  {
   "cell_type": "code",
   "execution_count": 810,
   "id": "a362f70c",
   "metadata": {},
   "outputs": [
    {
     "data": {
      "text/html": [
       "<div>\n",
       "<style scoped>\n",
       "    .dataframe tbody tr th:only-of-type {\n",
       "        vertical-align: middle;\n",
       "    }\n",
       "\n",
       "    .dataframe tbody tr th {\n",
       "        vertical-align: top;\n",
       "    }\n",
       "\n",
       "    .dataframe thead th {\n",
       "        text-align: right;\n",
       "    }\n",
       "</style>\n",
       "<table border=\"1\" class=\"dataframe\">\n",
       "  <thead>\n",
       "    <tr style=\"text-align: right;\">\n",
       "      <th></th>\n",
       "      <th>comments</th>\n",
       "    </tr>\n",
       "  </thead>\n",
       "  <tbody>\n",
       "    <tr>\n",
       "      <th>0</th>\n",
       "      <td>Let me retaliate by saying that when the dalai lama said 'suck my toungue ' he actually meant 'eat my toungue' which is a playful way an elder responds to its younger when he asks for something..like a candy..we say it in situations like 'God  you are asking for so much..now u wanna eat my toungue too..' our dalai lama isn't really that proficient in English as it was self learned and it being our second language..it was clearly a misunderstanding and misinterpretation by all the people.. if he said eat my toungue rather than the word suck..it wouldnt have sound that wrong.. please try to understand his intentions without immediately jumping on conclusions and check the complete video first.. video by jigjag too should be checked out for detailed understanding..please don't let 15 sec edited video manipulate you..</td>\n",
       "    </tr>\n",
       "    <tr>\n",
       "      <th>1</th>\n",
       "      <td>before airing  the news, the fact check is must for the media.</td>\n",
       "    </tr>\n",
       "    <tr>\n",
       "      <th>2</th>\n",
       "      <td>Tibetans told VICE World News that the meaning of this common expression used to tease and teach children is completely lost in cultural interpretation and its English translation. The correct phrase in Tibetan for this joke is “Che le sa”, which roughly translates to “Eat my tongue.” English is the Dalai Lama’s second language and Indian news outlets have previously reported that the leader speaks in broken English at public events.</td>\n",
       "    </tr>\n",
       "    <tr>\n",
       "      <th>3</th>\n",
       "      <td>Boycott NDTV i am frustrate of your fake news,if you want to show the video than put full video why did you put the blur face with dramatic music background to look bad</td>\n",
       "    </tr>\n",
       "    <tr>\n",
       "      <th>4</th>\n",
       "      <td>I wish someone would show the full video where he kept holding on to the child and hugging.</td>\n",
       "    </tr>\n",
       "  </tbody>\n",
       "</table>\n",
       "</div>"
      ],
      "text/plain": [
       "                                                                                                                                                                                                                                                                                                                                                                                                                                                                                                                                                                                                                                                                                                                                                                                                                                                    comments\n",
       "0  Let me retaliate by saying that when the dalai lama said 'suck my toungue ' he actually meant 'eat my toungue' which is a playful way an elder responds to its younger when he asks for something..like a candy..we say it in situations like 'God  you are asking for so much..now u wanna eat my toungue too..' our dalai lama isn't really that proficient in English as it was self learned and it being our second language..it was clearly a misunderstanding and misinterpretation by all the people.. if he said eat my toungue rather than the word suck..it wouldnt have sound that wrong.. please try to understand his intentions without immediately jumping on conclusions and check the complete video first.. video by jigjag too should be checked out for detailed understanding..please don't let 15 sec edited video manipulate you..\n",
       "1                                                                                                                                                                                                                                                                                                                                                                                                                                                                                                                                                                                                                                                                                                                                                                                             before airing  the news, the fact check is must for the media.\n",
       "2                                                                                                                                                                                                                                                                                                                                                                                                     Tibetans told VICE World News that the meaning of this common expression used to tease and teach children is completely lost in cultural interpretation and its English translation. The correct phrase in Tibetan for this joke is “Che le sa”, which roughly translates to “Eat my tongue.” English is the Dalai Lama’s second language and Indian news outlets have previously reported that the leader speaks in broken English at public events. \n",
       "3                                                                                                                                                                                                                                                                                                                                                                                                                                                                                                                                                                                                                                                                                   Boycott NDTV i am frustrate of your fake news,if you want to show the video than put full video why did you put the blur face with dramatic music background to look bad\n",
       "4                                                                                                                                                                                                                                                                                                                                                                                                                                                                                                                                                                                                                                                                                                                                                                I wish someone would show the full video where he kept holding on to the child and hugging."
      ]
     },
     "execution_count": 810,
     "metadata": {},
     "output_type": "execute_result"
    }
   ],
   "source": [
    "# Print the DataFrame\n",
    "df.head(5)"
   ]
  },
  {
   "cell_type": "code",
   "execution_count": 811,
   "id": "b698d3c0",
   "metadata": {},
   "outputs": [
    {
     "data": {
      "text/plain": [
       "(100, 1)"
      ]
     },
     "execution_count": 811,
     "metadata": {},
     "output_type": "execute_result"
    }
   ],
   "source": [
    "df.shape"
   ]
  },
  {
   "cell_type": "code",
   "execution_count": 812,
   "id": "cd8340cd",
   "metadata": {},
   "outputs": [],
   "source": [
    "#Convert the comments gathered into a CSV file\n",
    "df.to_csv('comments8.csv', index=False)"
   ]
  },
  {
   "cell_type": "code",
   "execution_count": 813,
   "id": "ba71ca9b",
   "metadata": {},
   "outputs": [],
   "source": [
    "#Measure the degree to which the text expresses a positive or negative sentiment\n",
    "df['polarity'] = df['comments'].apply(lambda x: TextBlob(x).sentiment.polarity)"
   ]
  },
  {
   "cell_type": "code",
   "execution_count": 814,
   "id": "7a41044b",
   "metadata": {},
   "outputs": [],
   "source": [
    "#Shuffle the dataset\n",
    "df = df.sample(frac=1).reset_index(drop=True)"
   ]
  },
  {
   "cell_type": "code",
   "execution_count": 815,
   "id": "e988f09f",
   "metadata": {},
   "outputs": [],
   "source": [
    "df['pol_cat']  = 0"
   ]
  },
  {
   "cell_type": "code",
   "execution_count": 816,
   "id": "4718e796",
   "metadata": {},
   "outputs": [],
   "source": [
    "#Continuous to categorical conversion\n",
    "df['pol_cat'][df.polarity > 0] = 1\n",
    "df['pol_cat'][df.polarity <= 0] = -1"
   ]
  },
  {
   "cell_type": "code",
   "execution_count": 817,
   "id": "2628f532",
   "metadata": {},
   "outputs": [
    {
     "data": {
      "text/html": [
       "<div>\n",
       "<style scoped>\n",
       "    .dataframe tbody tr th:only-of-type {\n",
       "        vertical-align: middle;\n",
       "    }\n",
       "\n",
       "    .dataframe tbody tr th {\n",
       "        vertical-align: top;\n",
       "    }\n",
       "\n",
       "    .dataframe thead th {\n",
       "        text-align: right;\n",
       "    }\n",
       "</style>\n",
       "<table border=\"1\" class=\"dataframe\">\n",
       "  <thead>\n",
       "    <tr style=\"text-align: right;\">\n",
       "      <th></th>\n",
       "      <th>comments</th>\n",
       "      <th>polarity</th>\n",
       "      <th>pol_cat</th>\n",
       "    </tr>\n",
       "  </thead>\n",
       "  <tbody>\n",
       "    <tr>\n",
       "      <th>0</th>\n",
       "      <td>There is absolutely NO excuse for what was done to this child. It's sick, vile, disgusting and evil. Period!!!! This LITERALLY makes me nauseous!! He would do that to my child ONCE and it wouldn't ever happen again. That poor kid.</td>\n",
       "      <td>-0.617857</td>\n",
       "      <td>-1</td>\n",
       "    </tr>\n",
       "    <tr>\n",
       "      <th>1</th>\n",
       "      <td>I stand for his holiness Dalai Lama</td>\n",
       "      <td>0.000000</td>\n",
       "      <td>-1</td>\n",
       "    </tr>\n",
       "    <tr>\n",
       "      <th>2</th>\n",
       "      <td>तिब्बती संस्कृति में, हम तब भी सॉरी बोलते हैं, जब हमने कुछ भी गलत नहीं किया, सिर्फ दूसरे व्यक्ति को शांत करने के लिए, क्योंकि सॉरी बोलने में कुछ नहीं जाटा। जब दलाई लामा ने माफी मांगी तो उन्होंने अपनी विनम्रता और विनम्रता के कारण हमारी नकारात्मक सोच के कारण ऐसा किया; और उसके कार्यों के कारण नहीं। हां, वे शब्द के चयन में कमजोर थे लेकिन अंग्रेजी उनकी मूल भाषा नहीं है।</td>\n",
       "      <td>0.000000</td>\n",
       "      <td>-1</td>\n",
       "    </tr>\n",
       "    <tr>\n",
       "      <th>3</th>\n",
       "      <td>I stand with Dalai Lama</td>\n",
       "      <td>0.000000</td>\n",
       "      <td>-1</td>\n",
       "    </tr>\n",
       "    <tr>\n",
       "      <th>4</th>\n",
       "      <td>that Dalai lama tongue action is disturbing. It shows who he really is on the inside.  Religion, and freedom eh? Do you really think this is his first time ?</td>\n",
       "      <td>0.050000</td>\n",
       "      <td>1</td>\n",
       "    </tr>\n",
       "  </tbody>\n",
       "</table>\n",
       "</div>"
      ],
      "text/plain": [
       "                                                                                                                                                                                                                                                                                                                                                                          comments  \\\n",
       "0                                                                                                                                           There is absolutely NO excuse for what was done to this child. It's sick, vile, disgusting and evil. Period!!!! This LITERALLY makes me nauseous!! He would do that to my child ONCE and it wouldn't ever happen again. That poor kid.   \n",
       "1                                                                                                                                                                                                                                                                                                                                             I stand for his holiness Dalai Lama    \n",
       "2  तिब्बती संस्कृति में, हम तब भी सॉरी बोलते हैं, जब हमने कुछ भी गलत नहीं किया, सिर्फ दूसरे व्यक्ति को शांत करने के लिए, क्योंकि सॉरी बोलने में कुछ नहीं जाटा। जब दलाई लामा ने माफी मांगी तो उन्होंने अपनी विनम्रता और विनम्रता के कारण हमारी नकारात्मक सोच के कारण ऐसा किया; और उसके कार्यों के कारण नहीं। हां, वे शब्द के चयन में कमजोर थे लेकिन अंग्रेजी उनकी मूल भाषा नहीं है।   \n",
       "3                                                                                                                                                                                                                                                                                                                                                         I stand with Dalai Lama    \n",
       "4                                                                                                                                                                                                                    that Dalai lama tongue action is disturbing. It shows who he really is on the inside.  Religion, and freedom eh? Do you really think this is his first time ?   \n",
       "\n",
       "   polarity  pol_cat  \n",
       "0 -0.617857       -1  \n",
       "1  0.000000       -1  \n",
       "2  0.000000       -1  \n",
       "3  0.000000       -1  \n",
       "4  0.050000        1  "
      ]
     },
     "execution_count": 817,
     "metadata": {},
     "output_type": "execute_result"
    }
   ],
   "source": [
    "df.head()"
   ]
  },
  {
   "cell_type": "code",
   "execution_count": 818,
   "id": "93c432b7",
   "metadata": {},
   "outputs": [
    {
     "data": {
      "text/plain": [
       "-1    53\n",
       " 1    47\n",
       "Name: pol_cat, dtype: int64"
      ]
     },
     "execution_count": 818,
     "metadata": {},
     "output_type": "execute_result"
    }
   ],
   "source": [
    "df['pol_cat'].value_counts()"
   ]
  },
  {
   "cell_type": "code",
   "execution_count": 819,
   "id": "8739cfc3",
   "metadata": {},
   "outputs": [],
   "source": [
    "#Create separate dataframes for Negative,Positive & Neutral comments\n",
    "data_pos = df[df['pol_cat'] == 1]\n",
    "data_pos = data_pos.reset_index(drop = True)\n",
    "\n",
    "data_neg = df[df['pol_cat'] == -1]\n",
    "data_neg = data_neg.reset_index(drop = True)"
   ]
  },
  {
   "cell_type": "code",
   "execution_count": 820,
   "id": "33779984",
   "metadata": {},
   "outputs": [
    {
     "data": {
      "text/html": [
       "<div>\n",
       "<style scoped>\n",
       "    .dataframe tbody tr th:only-of-type {\n",
       "        vertical-align: middle;\n",
       "    }\n",
       "\n",
       "    .dataframe tbody tr th {\n",
       "        vertical-align: top;\n",
       "    }\n",
       "\n",
       "    .dataframe thead th {\n",
       "        text-align: right;\n",
       "    }\n",
       "</style>\n",
       "<table border=\"1\" class=\"dataframe\">\n",
       "  <thead>\n",
       "    <tr style=\"text-align: right;\">\n",
       "      <th></th>\n",
       "      <th>comments</th>\n",
       "      <th>polarity</th>\n",
       "      <th>pol_cat</th>\n",
       "    </tr>\n",
       "  </thead>\n",
       "  <tbody>\n",
       "    <tr>\n",
       "      <th>0</th>\n",
       "      <td>that Dalai lama tongue action is disturbing. It shows who he really is on the inside.  Religion, and freedom eh? Do you really think this is his first time ?</td>\n",
       "      <td>0.050000</td>\n",
       "      <td>1</td>\n",
       "    </tr>\n",
       "    <tr>\n",
       "      <th>1</th>\n",
       "      <td>Long live his his holiness the 14th Dalai Lama</td>\n",
       "      <td>0.043182</td>\n",
       "      <td>1</td>\n",
       "    </tr>\n",
       "    <tr>\n",
       "      <th>2</th>\n",
       "      <td>AGE OF DISILLUSIONMENT   no, it is not normal, nor a cultural tradition ....simply, sexual abuse</td>\n",
       "      <td>0.175000</td>\n",
       "      <td>1</td>\n",
       "    </tr>\n",
       "    <tr>\n",
       "      <th>3</th>\n",
       "      <td>I ask the media to show the full unedited video before moving thier sharp tongue to misguide others. His Holiness the Dalai Lama is always open, transparent and crystal clear  in his every move. He is free from all the negativities and has no any guilt like we ordinary people have. The very purpose of his showing grandfatherly love and affection to the boy when the kid asked; \"Can I hug you\", is to show toxic people  not to use sharp tongue to misguide innocent people.</td>\n",
       "      <td>0.155000</td>\n",
       "      <td>1</td>\n",
       "    </tr>\n",
       "    <tr>\n",
       "      <th>4</th>\n",
       "      <td>Right now......who do I trust?</td>\n",
       "      <td>0.285714</td>\n",
       "      <td>1</td>\n",
       "    </tr>\n",
       "  </tbody>\n",
       "</table>\n",
       "</div>"
      ],
      "text/plain": [
       "                                                                                                                                                                                                                                                                                                                                                                                                                                                                                    comments  \\\n",
       "0                                                                                                                                                                                                                                                                                                                              that Dalai lama tongue action is disturbing. It shows who he really is on the inside.  Religion, and freedom eh? Do you really think this is his first time ?   \n",
       "1                                                                                                                                                                                                                                                                                                                                                                                                                                             Long live his his holiness the 14th Dalai Lama   \n",
       "2                                                                                                                                                                                                                                                                                                                                                                                           AGE OF DISILLUSIONMENT   no, it is not normal, nor a cultural tradition ....simply, sexual abuse   \n",
       "3  I ask the media to show the full unedited video before moving thier sharp tongue to misguide others. His Holiness the Dalai Lama is always open, transparent and crystal clear  in his every move. He is free from all the negativities and has no any guilt like we ordinary people have. The very purpose of his showing grandfatherly love and affection to the boy when the kid asked; \"Can I hug you\", is to show toxic people  not to use sharp tongue to misguide innocent people.   \n",
       "4                                                                                                                                                                                                                                                                                                                                                                                                                                                             Right now......who do I trust?   \n",
       "\n",
       "   polarity  pol_cat  \n",
       "0  0.050000        1  \n",
       "1  0.043182        1  \n",
       "2  0.175000        1  \n",
       "3  0.155000        1  \n",
       "4  0.285714        1  "
      ]
     },
     "execution_count": 820,
     "metadata": {},
     "output_type": "execute_result"
    }
   ],
   "source": [
    "#Check the positive comments\n",
    "data_pos.head()"
   ]
  },
  {
   "cell_type": "code",
   "execution_count": 821,
   "id": "1bd2b1c9",
   "metadata": {},
   "outputs": [
    {
     "data": {
      "text/plain": [
       "(47, 3)"
      ]
     },
     "execution_count": 821,
     "metadata": {},
     "output_type": "execute_result"
    }
   ],
   "source": [
    "data_pos.shape"
   ]
  },
  {
   "cell_type": "code",
   "execution_count": 822,
   "id": "89aef7d3",
   "metadata": {},
   "outputs": [
    {
     "data": {
      "text/html": [
       "<div>\n",
       "<style scoped>\n",
       "    .dataframe tbody tr th:only-of-type {\n",
       "        vertical-align: middle;\n",
       "    }\n",
       "\n",
       "    .dataframe tbody tr th {\n",
       "        vertical-align: top;\n",
       "    }\n",
       "\n",
       "    .dataframe thead th {\n",
       "        text-align: right;\n",
       "    }\n",
       "</style>\n",
       "<table border=\"1\" class=\"dataframe\">\n",
       "  <thead>\n",
       "    <tr style=\"text-align: right;\">\n",
       "      <th></th>\n",
       "      <th>comments</th>\n",
       "      <th>polarity</th>\n",
       "      <th>pol_cat</th>\n",
       "    </tr>\n",
       "  </thead>\n",
       "  <tbody>\n",
       "    <tr>\n",
       "      <th>0</th>\n",
       "      <td>There is absolutely NO excuse for what was done to this child. It's sick, vile, disgusting and evil. Period!!!! This LITERALLY makes me nauseous!! He would do that to my child ONCE and it wouldn't ever happen again. That poor kid.</td>\n",
       "      <td>-0.617857</td>\n",
       "      <td>-1</td>\n",
       "    </tr>\n",
       "    <tr>\n",
       "      <th>1</th>\n",
       "      <td>I stand for his holiness Dalai Lama</td>\n",
       "      <td>0.000000</td>\n",
       "      <td>-1</td>\n",
       "    </tr>\n",
       "    <tr>\n",
       "      <th>2</th>\n",
       "      <td>तिब्बती संस्कृति में, हम तब भी सॉरी बोलते हैं, जब हमने कुछ भी गलत नहीं किया, सिर्फ दूसरे व्यक्ति को शांत करने के लिए, क्योंकि सॉरी बोलने में कुछ नहीं जाटा। जब दलाई लामा ने माफी मांगी तो उन्होंने अपनी विनम्रता और विनम्रता के कारण हमारी नकारात्मक सोच के कारण ऐसा किया; और उसके कार्यों के कारण नहीं। हां, वे शब्द के चयन में कमजोर थे लेकिन अंग्रेजी उनकी मूल भाषा नहीं है।</td>\n",
       "      <td>0.000000</td>\n",
       "      <td>-1</td>\n",
       "    </tr>\n",
       "    <tr>\n",
       "      <th>3</th>\n",
       "      <td>I stand with Dalai Lama</td>\n",
       "      <td>0.000000</td>\n",
       "      <td>-1</td>\n",
       "    </tr>\n",
       "    <tr>\n",
       "      <th>4</th>\n",
       "      <td>Don’t simply imply your society guru’s act in somebody guru</td>\n",
       "      <td>0.000000</td>\n",
       "      <td>-1</td>\n",
       "    </tr>\n",
       "  </tbody>\n",
       "</table>\n",
       "</div>"
      ],
      "text/plain": [
       "                                                                                                                                                                                                                                                                                                                                                                          comments  \\\n",
       "0                                                                                                                                           There is absolutely NO excuse for what was done to this child. It's sick, vile, disgusting and evil. Period!!!! This LITERALLY makes me nauseous!! He would do that to my child ONCE and it wouldn't ever happen again. That poor kid.   \n",
       "1                                                                                                                                                                                                                                                                                                                                             I stand for his holiness Dalai Lama    \n",
       "2  तिब्बती संस्कृति में, हम तब भी सॉरी बोलते हैं, जब हमने कुछ भी गलत नहीं किया, सिर्फ दूसरे व्यक्ति को शांत करने के लिए, क्योंकि सॉरी बोलने में कुछ नहीं जाटा। जब दलाई लामा ने माफी मांगी तो उन्होंने अपनी विनम्रता और विनम्रता के कारण हमारी नकारात्मक सोच के कारण ऐसा किया; और उसके कार्यों के कारण नहीं। हां, वे शब्द के चयन में कमजोर थे लेकिन अंग्रेजी उनकी मूल भाषा नहीं है।   \n",
       "3                                                                                                                                                                                                                                                                                                                                                         I stand with Dalai Lama    \n",
       "4                                                                                                                                                                                                                                                                                                                      Don’t simply imply your society guru’s act in somebody guru   \n",
       "\n",
       "   polarity  pol_cat  \n",
       "0 -0.617857       -1  \n",
       "1  0.000000       -1  \n",
       "2  0.000000       -1  \n",
       "3  0.000000       -1  \n",
       "4  0.000000       -1  "
      ]
     },
     "execution_count": 822,
     "metadata": {},
     "output_type": "execute_result"
    }
   ],
   "source": [
    "#Check the positive comments\n",
    "data_neg.head()"
   ]
  },
  {
   "cell_type": "code",
   "execution_count": 823,
   "id": "0a0e6e76",
   "metadata": {},
   "outputs": [
    {
     "data": {
      "text/plain": [
       "(53, 3)"
      ]
     },
     "execution_count": 823,
     "metadata": {},
     "output_type": "execute_result"
    }
   ],
   "source": [
    "data_neg.shape"
   ]
  },
  {
   "cell_type": "code",
   "execution_count": 824,
   "id": "216b1cbc",
   "metadata": {},
   "outputs": [
    {
     "data": {
      "text/plain": [
       "-1    53\n",
       " 1    47\n",
       "Name: pol_cat, dtype: int64"
      ]
     },
     "execution_count": 824,
     "metadata": {},
     "output_type": "execute_result"
    },
    {
     "data": {
      "image/png": "[encoded data removed]",
      "text/plain": [
       "<Figure size 640x480 with 1 Axes>"
      ]
     },
     "metadata": {},
     "output_type": "display_data"
    }
   ],
   "source": [
    "#Distribution of positive(+1) and negative(-1) comments\n",
    "df.pol_cat.value_counts().plot.bar()\n",
    "df.pol_cat.value_counts()"
   ]
  },
  {
   "cell_type": "code",
   "execution_count": 825,
   "id": "2a9b6d6c",
   "metadata": {},
   "outputs": [],
   "source": [
    "#Data pre-processing, convert comments to lowercase characters\n",
    "df['comments'] = df['comments'].str.lower()"
   ]
  },
  {
   "cell_type": "code",
   "execution_count": 826,
   "id": "df2c7550",
   "metadata": {},
   "outputs": [
    {
     "data": {
      "text/plain": [
       "0                                                                                                                                                                                                                                                                                                                                                                     there is absolutely no excuse for what was done to this child. it's sick, vile, disgusting and evil. period!!!! this literally makes me nauseous!! he would do that to my child once and it wouldn't ever happen again. that poor kid.\n",
       "1                                                                                                                                                                                                                                                                                                                                                                                                                                                                                                                                                                        i stand for his holiness dalai lama\n",
       "2                                                                                                                                                                                                                            तिब्बती संस्कृति में, हम तब भी सॉरी बोलते हैं, जब हमने कुछ भी गलत नहीं किया, सिर्फ दूसरे व्यक्ति को शांत करने के लिए, क्योंकि सॉरी बोलने में कुछ नहीं जाटा। जब दलाई लामा ने माफी मांगी तो उन्होंने अपनी विनम्रता और विनम्रता के कारण हमारी नकारात्मक सोच के कारण ऐसा किया; और उसके कार्यों के कारण नहीं। हां, वे शब्द के चयन में कमजोर थे लेकिन अंग्रेजी उनकी मूल भाषा नहीं है।\n",
       "3                                                                                                                                                                                                                                                                                                                                                                                                                                                                                                                                                                                    i stand with dalai lama\n",
       "4                                                                                                                                                                                                                                                                                                                                                                                                                                              that dalai lama tongue action is disturbing. it shows who he really is on the inside.  religion, and freedom eh? do you really think this is his first time ?\n",
       "                                                                                                                                                                                                                                                                                                       ...                                                                                                                                                                                                                                                                                                  \n",
       "95                                                                                                                                                                                                                                                                                                                                                                                                                                                                                                                                                   signs of an abuser????sucking his tongue sissss...germs\n",
       "96                                                                                                                                                                                                                                                                                                                                                                                                                                                                                                                                                                                    long live his holiness\n",
       "97    i cannot find a single other video of this man and it's driving me nuts! this makes my skin crawl at first sight but i grew up in america. i desperately want to see how people act in tibet. when i was little i had a friend (i don't know her culture specifically for sure i didn't ask, i was little) and her family all kissed on the lips!! it freaked me out! but then i got to know how nice her family was and how what was disgusting to me was normal to them. so i want to see way more of this person and country and religion to understand his behavior. i think...that it's important\n",
       "98                                                                                                                                                                                                                                                                                                                                                                                                                                                               that is in front of the cameras and other people; but we do not know what he does to children behind closed doors when he has no witnesses.\n",
       "99                                                                                                                                                                                                                                                                                                                                                                                             world is so cruel that people judge it without understanding the differences in culture and dalai lama has been working for world peace from more then 60 yrs in india and still people blaming hh dalai lama\n",
       "Name: comments, Length: 100, dtype: object"
      ]
     },
     "execution_count": 826,
     "metadata": {},
     "output_type": "execute_result"
    }
   ],
   "source": [
    "#Remove unecessary spaces\n",
    "df['comments'].str.strip()"
   ]
  },
  {
   "cell_type": "code",
   "execution_count": 827,
   "id": "acc6507f",
   "metadata": {},
   "outputs": [
    {
     "data": {
      "text/plain": [
       "0    there is absolutely no excuse for what was done to this child its sick vile disgusting and evil period this literally makes me nauseous he would do that to my child once and it wouldnt ever happen again that poor kid\n",
       "1                                                                                                                                                                                        i stand for his holiness dalai lama \n",
       "4                                                                    that dalai lama tongue action is disturbing it shows who he really is on the inside  religion and freedom eh do you really think this is his first time \n",
       "5                                                                                                                                                                              long live his his holiness the 14th dalai lama\n",
       "6                                                                                                                                                                   dont simply imply your society gurus act in somebody guru\n",
       "Name: clean_comments, dtype: object"
      ]
     },
     "execution_count": 827,
     "metadata": {},
     "output_type": "execute_result"
    }
   ],
   "source": [
    "# Define a function to clean the English comments, remove other language comments\n",
    "def clean_text(text):\n",
    "    # Remove any non-ASCII characters\n",
    "    text = text.encode('ascii', 'ignore').decode('ascii')\n",
    "    # Remove any non-alphanumeric characters and convert to lowercase\n",
    "    text = ''.join(e for e in text if e.isalnum() or e.isspace())\n",
    "    text = text.lower()\n",
    "    return text\n",
    "\n",
    "\n",
    "# Use the langdetect library to detect the language of each comment\n",
    "df['language'] = df['comments'].apply(lambda x: detect(x))\n",
    "\n",
    "# Filter the dataframe to keep only the comments that are in English\n",
    "df = df[df['language'] == 'en']\n",
    "\n",
    "# Clean the English comments and store them in a new column called 'clean_comments'\n",
    "df['clean_comments'] = df['comments'].apply(clean_text)\n",
    "\n",
    "# Print the cleaned English comments\n",
    "df['clean_comments'].head()\n"
   ]
  },
  {
   "cell_type": "code",
   "execution_count": 828,
   "id": "0486e371",
   "metadata": {},
   "outputs": [
    {
     "data": {
      "text/html": [
       "<div>\n",
       "<style scoped>\n",
       "    .dataframe tbody tr th:only-of-type {\n",
       "        vertical-align: middle;\n",
       "    }\n",
       "\n",
       "    .dataframe tbody tr th {\n",
       "        vertical-align: top;\n",
       "    }\n",
       "\n",
       "    .dataframe thead th {\n",
       "        text-align: right;\n",
       "    }\n",
       "</style>\n",
       "<table border=\"1\" class=\"dataframe\">\n",
       "  <thead>\n",
       "    <tr style=\"text-align: right;\">\n",
       "      <th></th>\n",
       "      <th>comments</th>\n",
       "      <th>polarity</th>\n",
       "      <th>pol_cat</th>\n",
       "      <th>language</th>\n",
       "      <th>clean_comments</th>\n",
       "    </tr>\n",
       "  </thead>\n",
       "  <tbody>\n",
       "    <tr>\n",
       "      <th>0</th>\n",
       "      <td>there is absolutely no excuse for what was done to this child. it's sick, vile, disgusting and evil. period!!!! this literally makes me nauseous!! he would do that to my child once and it wouldn't ever happen again. that poor kid.</td>\n",
       "      <td>-0.617857</td>\n",
       "      <td>-1</td>\n",
       "      <td>en</td>\n",
       "      <td>there is absolutely no excuse for what was done to this child its sick vile disgusting and evil period this literally makes me nauseous he would do that to my child once and it wouldnt ever happen again that poor kid</td>\n",
       "    </tr>\n",
       "    <tr>\n",
       "      <th>1</th>\n",
       "      <td>i stand for his holiness dalai lama</td>\n",
       "      <td>0.000000</td>\n",
       "      <td>-1</td>\n",
       "      <td>en</td>\n",
       "      <td>i stand for his holiness dalai lama</td>\n",
       "    </tr>\n",
       "    <tr>\n",
       "      <th>4</th>\n",
       "      <td>that dalai lama tongue action is disturbing. it shows who he really is on the inside.  religion, and freedom eh? do you really think this is his first time ?</td>\n",
       "      <td>0.050000</td>\n",
       "      <td>1</td>\n",
       "      <td>en</td>\n",
       "      <td>that dalai lama tongue action is disturbing it shows who he really is on the inside  religion and freedom eh do you really think this is his first time</td>\n",
       "    </tr>\n",
       "    <tr>\n",
       "      <th>5</th>\n",
       "      <td>long live his his holiness the 14th dalai lama</td>\n",
       "      <td>0.043182</td>\n",
       "      <td>1</td>\n",
       "      <td>en</td>\n",
       "      <td>long live his his holiness the 14th dalai lama</td>\n",
       "    </tr>\n",
       "    <tr>\n",
       "      <th>6</th>\n",
       "      <td>don’t simply imply your society guru’s act in somebody guru</td>\n",
       "      <td>0.000000</td>\n",
       "      <td>-1</td>\n",
       "      <td>en</td>\n",
       "      <td>dont simply imply your society gurus act in somebody guru</td>\n",
       "    </tr>\n",
       "  </tbody>\n",
       "</table>\n",
       "</div>"
      ],
      "text/plain": [
       "                                                                                                                                                                                                                                 comments  \\\n",
       "0  there is absolutely no excuse for what was done to this child. it's sick, vile, disgusting and evil. period!!!! this literally makes me nauseous!! he would do that to my child once and it wouldn't ever happen again. that poor kid.   \n",
       "1                                                                                                                                                                                                    i stand for his holiness dalai lama    \n",
       "4                                                                           that dalai lama tongue action is disturbing. it shows who he really is on the inside.  religion, and freedom eh? do you really think this is his first time ?   \n",
       "5                                                                                                                                                                                          long live his his holiness the 14th dalai lama   \n",
       "6                                                                                                                                                                             don’t simply imply your society guru’s act in somebody guru   \n",
       "\n",
       "   polarity  pol_cat language  \\\n",
       "0 -0.617857       -1       en   \n",
       "1  0.000000       -1       en   \n",
       "4  0.050000        1       en   \n",
       "5  0.043182        1       en   \n",
       "6  0.000000       -1       en   \n",
       "\n",
       "                                                                                                                                                                                                             clean_comments  \n",
       "0  there is absolutely no excuse for what was done to this child its sick vile disgusting and evil period this literally makes me nauseous he would do that to my child once and it wouldnt ever happen again that poor kid  \n",
       "1                                                                                                                                                                                      i stand for his holiness dalai lama   \n",
       "4                                                                  that dalai lama tongue action is disturbing it shows who he really is on the inside  religion and freedom eh do you really think this is his first time   \n",
       "5                                                                                                                                                                            long live his his holiness the 14th dalai lama  \n",
       "6                                                                                                                                                                 dont simply imply your society gurus act in somebody guru  "
      ]
     },
     "execution_count": 828,
     "metadata": {},
     "output_type": "execute_result"
    }
   ],
   "source": [
    "#Compare original comments and cleaned comments\n",
    "df.head()"
   ]
  },
  {
   "cell_type": "code",
   "execution_count": 829,
   "id": "868c1c30",
   "metadata": {},
   "outputs": [
    {
     "name": "stdout",
     "output_type": "stream",
     "text": [
      "<class 'pandas.core.frame.DataFrame'>\n",
      "Int64Index: 90 entries, 0 to 99\n",
      "Data columns (total 5 columns):\n",
      " #   Column          Non-Null Count  Dtype  \n",
      "---  ------          --------------  -----  \n",
      " 0   comments        90 non-null     object \n",
      " 1   polarity        90 non-null     float64\n",
      " 2   pol_cat         90 non-null     int64  \n",
      " 3   language        90 non-null     object \n",
      " 4   clean_comments  90 non-null     object \n",
      "dtypes: float64(1), int64(1), object(3)\n",
      "memory usage: 4.2+ KB\n"
     ]
    }
   ],
   "source": [
    "df.info()"
   ]
  },
  {
   "cell_type": "code",
   "execution_count": 830,
   "id": "79ccf2cc",
   "metadata": {},
   "outputs": [
    {
     "data": {
      "text/html": [
       "<div>\n",
       "<style scoped>\n",
       "    .dataframe tbody tr th:only-of-type {\n",
       "        vertical-align: middle;\n",
       "    }\n",
       "\n",
       "    .dataframe tbody tr th {\n",
       "        vertical-align: top;\n",
       "    }\n",
       "\n",
       "    .dataframe thead th {\n",
       "        text-align: right;\n",
       "    }\n",
       "</style>\n",
       "<table border=\"1\" class=\"dataframe\">\n",
       "  <thead>\n",
       "    <tr style=\"text-align: right;\">\n",
       "      <th></th>\n",
       "      <th>polarity</th>\n",
       "      <th>pol_cat</th>\n",
       "    </tr>\n",
       "  </thead>\n",
       "  <tbody>\n",
       "    <tr>\n",
       "      <th>count</th>\n",
       "      <td>90.000000</td>\n",
       "      <td>90.000000</td>\n",
       "    </tr>\n",
       "    <tr>\n",
       "      <th>mean</th>\n",
       "      <td>0.022334</td>\n",
       "      <td>-0.022222</td>\n",
       "    </tr>\n",
       "    <tr>\n",
       "      <th>std</th>\n",
       "      <td>0.258368</td>\n",
       "      <td>1.005354</td>\n",
       "    </tr>\n",
       "    <tr>\n",
       "      <th>min</th>\n",
       "      <td>-1.000000</td>\n",
       "      <td>-1.000000</td>\n",
       "    </tr>\n",
       "    <tr>\n",
       "      <th>25%</th>\n",
       "      <td>-0.042560</td>\n",
       "      <td>-1.000000</td>\n",
       "    </tr>\n",
       "    <tr>\n",
       "      <th>50%</th>\n",
       "      <td>0.000000</td>\n",
       "      <td>-1.000000</td>\n",
       "    </tr>\n",
       "    <tr>\n",
       "      <th>75%</th>\n",
       "      <td>0.170313</td>\n",
       "      <td>1.000000</td>\n",
       "    </tr>\n",
       "    <tr>\n",
       "      <th>max</th>\n",
       "      <td>0.527778</td>\n",
       "      <td>1.000000</td>\n",
       "    </tr>\n",
       "  </tbody>\n",
       "</table>\n",
       "</div>"
      ],
      "text/plain": [
       "        polarity    pol_cat\n",
       "count  90.000000  90.000000\n",
       "mean    0.022334  -0.022222\n",
       "std     0.258368   1.005354\n",
       "min    -1.000000  -1.000000\n",
       "25%    -0.042560  -1.000000\n",
       "50%     0.000000  -1.000000\n",
       "75%     0.170313   1.000000\n",
       "max     0.527778   1.000000"
      ]
     },
     "execution_count": 830,
     "metadata": {},
     "output_type": "execute_result"
    }
   ],
   "source": [
    "df.describe()"
   ]
  },
  {
   "cell_type": "code",
   "execution_count": 831,
   "id": "ffff1461",
   "metadata": {},
   "outputs": [],
   "source": [
    "#df['clean_comments'].str.strip()"
   ]
  },
  {
   "cell_type": "code",
   "execution_count": 832,
   "id": "f5632b9f",
   "metadata": {},
   "outputs": [
    {
     "name": "stderr",
     "output_type": "stream",
     "text": [
      "[nltk_data] Downloading package stopwords to\n",
      "[nltk_data]     C:\\Users\\neera\\AppData\\Roaming\\nltk_data...\n",
      "[nltk_data]   Package stopwords is already up-to-date!\n"
     ]
    },
    {
     "data": {
      "text/plain": [
       "True"
      ]
     },
     "execution_count": 832,
     "metadata": {},
     "output_type": "execute_result"
    }
   ],
   "source": [
    "#Download stopwords package\n",
    "nltk.download(\"stopwords\")"
   ]
  },
  {
   "cell_type": "code",
   "execution_count": 833,
   "id": "a42ba76c",
   "metadata": {},
   "outputs": [
    {
     "name": "stderr",
     "output_type": "stream",
     "text": [
      "[nltk_data] Downloading package punkt to\n",
      "[nltk_data]     C:\\Users\\neera\\AppData\\Roaming\\nltk_data...\n",
      "[nltk_data]   Package punkt is already up-to-date!\n"
     ]
    },
    {
     "data": {
      "text/plain": [
       "True"
      ]
     },
     "execution_count": 833,
     "metadata": {},
     "output_type": "execute_result"
    }
   ],
   "source": [
    "#Download punkt package\n",
    "nltk.download(\"punkt\")"
   ]
  },
  {
   "cell_type": "code",
   "execution_count": 834,
   "id": "4eab63fa",
   "metadata": {},
   "outputs": [
    {
     "name": "stdout",
     "output_type": "stream",
     "text": [
      "['i', 'me', 'my', 'myself', 'we', 'our', 'ours', 'ourselves', 'you', \"you're\", \"you've\", \"you'll\", \"you'd\", 'your', 'yours', 'yourself', 'yourselves', 'he', 'him', 'his', 'himself', 'she', \"she's\", 'her', 'hers', 'herself', 'it', \"it's\", 'its', 'itself', 'they', 'them', 'their', 'theirs', 'themselves', 'what', 'which', 'who', 'whom', 'this', 'that', \"that'll\", 'these', 'those', 'am', 'is', 'are', 'was', 'were', 'be', 'been', 'being', 'have', 'has', 'had', 'having', 'do', 'does', 'did', 'doing', 'a', 'an', 'the', 'and', 'but', 'if', 'or', 'because', 'as', 'until', 'while', 'of', 'at', 'by', 'for', 'with', 'about', 'against', 'between', 'into', 'through', 'during', 'before', 'after', 'above', 'below', 'to', 'from', 'up', 'down', 'in', 'out', 'on', 'off', 'over', 'under', 'again', 'further', 'then', 'once', 'here', 'there', 'when', 'where', 'why', 'how', 'all', 'any', 'both', 'each', 'few', 'more', 'most', 'other', 'some', 'such', 'no', 'nor', 'not', 'only', 'own', 'same', 'so', 'than', 'too', 'very', 's', 't', 'can', 'will', 'just', 'don', \"don't\", 'should', \"should've\", 'now', 'd', 'll', 'm', 'o', 're', 've', 'y', 'ain', 'aren', \"aren't\", 'couldn', \"couldn't\", 'didn', \"didn't\", 'doesn', \"doesn't\", 'hadn', \"hadn't\", 'hasn', \"hasn't\", 'haven', \"haven't\", 'isn', \"isn't\", 'ma', 'mightn', \"mightn't\", 'mustn', \"mustn't\", 'needn', \"needn't\", 'shan', \"shan't\", 'shouldn', \"shouldn't\", 'wasn', \"wasn't\", 'weren', \"weren't\", 'won', \"won't\", 'wouldn', \"wouldn't\"]\n"
     ]
    }
   ],
   "source": [
    "print(stopwords.words('english'))"
   ]
  },
  {
   "cell_type": "code",
   "execution_count": 835,
   "id": "dd07a31d",
   "metadata": {},
   "outputs": [],
   "source": [
    "stop_words = set(stopwords.words('english'))"
   ]
  },
  {
   "cell_type": "code",
   "execution_count": 836,
   "id": "ca04d7e4",
   "metadata": {},
   "outputs": [],
   "source": [
    "df['clean_comments'] = df['clean_comments'].str.strip()"
   ]
  },
  {
   "cell_type": "code",
   "execution_count": 837,
   "id": "e7ca006c",
   "metadata": {},
   "outputs": [
    {
     "data": {
      "text/html": [
       "<div>\n",
       "<style scoped>\n",
       "    .dataframe tbody tr th:only-of-type {\n",
       "        vertical-align: middle;\n",
       "    }\n",
       "\n",
       "    .dataframe tbody tr th {\n",
       "        vertical-align: top;\n",
       "    }\n",
       "\n",
       "    .dataframe thead th {\n",
       "        text-align: right;\n",
       "    }\n",
       "</style>\n",
       "<table border=\"1\" class=\"dataframe\">\n",
       "  <thead>\n",
       "    <tr style=\"text-align: right;\">\n",
       "      <th></th>\n",
       "      <th>comments</th>\n",
       "      <th>polarity</th>\n",
       "      <th>pol_cat</th>\n",
       "      <th>language</th>\n",
       "      <th>clean_comments</th>\n",
       "    </tr>\n",
       "  </thead>\n",
       "  <tbody>\n",
       "    <tr>\n",
       "      <th>0</th>\n",
       "      <td>there is absolutely no excuse for what was done to this child. it's sick, vile, disgusting and evil. period!!!! this literally makes me nauseous!! he would do that to my child once and it wouldn't ever happen again. that poor kid.</td>\n",
       "      <td>-0.617857</td>\n",
       "      <td>-1</td>\n",
       "      <td>en</td>\n",
       "      <td>there is absolutely no excuse for what was done to this child its sick vile disgusting and evil period this literally makes me nauseous he would do that to my child once and it wouldnt ever happen again that poor kid</td>\n",
       "    </tr>\n",
       "    <tr>\n",
       "      <th>1</th>\n",
       "      <td>i stand for his holiness dalai lama</td>\n",
       "      <td>0.000000</td>\n",
       "      <td>-1</td>\n",
       "      <td>en</td>\n",
       "      <td>i stand for his holiness dalai lama</td>\n",
       "    </tr>\n",
       "    <tr>\n",
       "      <th>4</th>\n",
       "      <td>that dalai lama tongue action is disturbing. it shows who he really is on the inside.  religion, and freedom eh? do you really think this is his first time ?</td>\n",
       "      <td>0.050000</td>\n",
       "      <td>1</td>\n",
       "      <td>en</td>\n",
       "      <td>that dalai lama tongue action is disturbing it shows who he really is on the inside  religion and freedom eh do you really think this is his first time</td>\n",
       "    </tr>\n",
       "    <tr>\n",
       "      <th>5</th>\n",
       "      <td>long live his his holiness the 14th dalai lama</td>\n",
       "      <td>0.043182</td>\n",
       "      <td>1</td>\n",
       "      <td>en</td>\n",
       "      <td>long live his his holiness the 14th dalai lama</td>\n",
       "    </tr>\n",
       "    <tr>\n",
       "      <th>6</th>\n",
       "      <td>don’t simply imply your society guru’s act in somebody guru</td>\n",
       "      <td>0.000000</td>\n",
       "      <td>-1</td>\n",
       "      <td>en</td>\n",
       "      <td>dont simply imply your society gurus act in somebody guru</td>\n",
       "    </tr>\n",
       "    <tr>\n",
       "      <th>7</th>\n",
       "      <td>before airing  the news, the fact check is must for the media.</td>\n",
       "      <td>0.000000</td>\n",
       "      <td>-1</td>\n",
       "      <td>en</td>\n",
       "      <td>before airing  the news the fact check is must for the media</td>\n",
       "    </tr>\n",
       "    <tr>\n",
       "      <th>8</th>\n",
       "      <td>age of disillusionment   no, it is not normal, nor a cultural tradition ....simply, sexual abuse</td>\n",
       "      <td>0.175000</td>\n",
       "      <td>1</td>\n",
       "      <td>en</td>\n",
       "      <td>age of disillusionment   no it is not normal nor a cultural tradition simply sexual abuse</td>\n",
       "    </tr>\n",
       "    <tr>\n",
       "      <th>9</th>\n",
       "      <td>i stand with his holiness</td>\n",
       "      <td>0.000000</td>\n",
       "      <td>-1</td>\n",
       "      <td>en</td>\n",
       "      <td>i stand with his holiness</td>\n",
       "    </tr>\n",
       "  </tbody>\n",
       "</table>\n",
       "</div>"
      ],
      "text/plain": [
       "                                                                                                                                                                                                                                 comments  \\\n",
       "0  there is absolutely no excuse for what was done to this child. it's sick, vile, disgusting and evil. period!!!! this literally makes me nauseous!! he would do that to my child once and it wouldn't ever happen again. that poor kid.   \n",
       "1                                                                                                                                                                                                    i stand for his holiness dalai lama    \n",
       "4                                                                           that dalai lama tongue action is disturbing. it shows who he really is on the inside.  religion, and freedom eh? do you really think this is his first time ?   \n",
       "5                                                                                                                                                                                          long live his his holiness the 14th dalai lama   \n",
       "6                                                                                                                                                                             don’t simply imply your society guru’s act in somebody guru   \n",
       "7                                                                                                                                                                          before airing  the news, the fact check is must for the media.   \n",
       "8                                                                                                                                        age of disillusionment   no, it is not normal, nor a cultural tradition ....simply, sexual abuse   \n",
       "9                                                                                                                                                                                                              i stand with his holiness    \n",
       "\n",
       "   polarity  pol_cat language  \\\n",
       "0 -0.617857       -1       en   \n",
       "1  0.000000       -1       en   \n",
       "4  0.050000        1       en   \n",
       "5  0.043182        1       en   \n",
       "6  0.000000       -1       en   \n",
       "7  0.000000       -1       en   \n",
       "8  0.175000        1       en   \n",
       "9  0.000000       -1       en   \n",
       "\n",
       "                                                                                                                                                                                                             clean_comments  \n",
       "0  there is absolutely no excuse for what was done to this child its sick vile disgusting and evil period this literally makes me nauseous he would do that to my child once and it wouldnt ever happen again that poor kid  \n",
       "1                                                                                                                                                                                       i stand for his holiness dalai lama  \n",
       "4                                                                   that dalai lama tongue action is disturbing it shows who he really is on the inside  religion and freedom eh do you really think this is his first time  \n",
       "5                                                                                                                                                                            long live his his holiness the 14th dalai lama  \n",
       "6                                                                                                                                                                 dont simply imply your society gurus act in somebody guru  \n",
       "7                                                                                                                                                              before airing  the news the fact check is must for the media  \n",
       "8                                                                                                                                 age of disillusionment   no it is not normal nor a cultural tradition simply sexual abuse  \n",
       "9                                                                                                                                                                                                 i stand with his holiness  "
      ]
     },
     "execution_count": 837,
     "metadata": {},
     "output_type": "execute_result"
    }
   ],
   "source": [
    "#View the transformed data\n",
    "df.head(8)"
   ]
  },
  {
   "cell_type": "code",
   "execution_count": 838,
   "id": "14ab9c92",
   "metadata": {},
   "outputs": [],
   "source": [
    "#Define function to remove stopwords\n",
    "def remove_stopwords(line):\n",
    "    word_tokens = word_tokenize(line)\n",
    "    filtered_sentence = [w for w in word_tokens if not w in stop_words]\n",
    "    return \" \".join(filtered_sentence)"
   ]
  },
  {
   "cell_type": "code",
   "execution_count": 839,
   "id": "67e1997b",
   "metadata": {},
   "outputs": [],
   "source": [
    "df['stop_comments'] = df['clean_comments'].apply(lambda x : remove_stopwords(x))"
   ]
  },
  {
   "cell_type": "code",
   "execution_count": 840,
   "id": "2804d50c",
   "metadata": {},
   "outputs": [
    {
     "data": {
      "text/html": [
       "<div>\n",
       "<style scoped>\n",
       "    .dataframe tbody tr th:only-of-type {\n",
       "        vertical-align: middle;\n",
       "    }\n",
       "\n",
       "    .dataframe tbody tr th {\n",
       "        vertical-align: top;\n",
       "    }\n",
       "\n",
       "    .dataframe thead th {\n",
       "        text-align: right;\n",
       "    }\n",
       "</style>\n",
       "<table border=\"1\" class=\"dataframe\">\n",
       "  <thead>\n",
       "    <tr style=\"text-align: right;\">\n",
       "      <th></th>\n",
       "      <th>comments</th>\n",
       "      <th>polarity</th>\n",
       "      <th>pol_cat</th>\n",
       "      <th>language</th>\n",
       "      <th>clean_comments</th>\n",
       "      <th>stop_comments</th>\n",
       "    </tr>\n",
       "  </thead>\n",
       "  <tbody>\n",
       "    <tr>\n",
       "      <th>0</th>\n",
       "      <td>there is absolutely no excuse for what was done to this child. it's sick, vile, disgusting and evil. period!!!! this literally makes me nauseous!! he would do that to my child once and it wouldn't ever happen again. that poor kid.</td>\n",
       "      <td>-0.617857</td>\n",
       "      <td>-1</td>\n",
       "      <td>en</td>\n",
       "      <td>there is absolutely no excuse for what was done to this child its sick vile disgusting and evil period this literally makes me nauseous he would do that to my child once and it wouldnt ever happen again that poor kid</td>\n",
       "      <td>absolutely excuse done child sick vile disgusting evil period literally makes nauseous would child wouldnt ever happen poor kid</td>\n",
       "    </tr>\n",
       "    <tr>\n",
       "      <th>1</th>\n",
       "      <td>i stand for his holiness dalai lama</td>\n",
       "      <td>0.000000</td>\n",
       "      <td>-1</td>\n",
       "      <td>en</td>\n",
       "      <td>i stand for his holiness dalai lama</td>\n",
       "      <td>stand holiness dalai lama</td>\n",
       "    </tr>\n",
       "    <tr>\n",
       "      <th>4</th>\n",
       "      <td>that dalai lama tongue action is disturbing. it shows who he really is on the inside.  religion, and freedom eh? do you really think this is his first time ?</td>\n",
       "      <td>0.050000</td>\n",
       "      <td>1</td>\n",
       "      <td>en</td>\n",
       "      <td>that dalai lama tongue action is disturbing it shows who he really is on the inside  religion and freedom eh do you really think this is his first time</td>\n",
       "      <td>dalai lama tongue action disturbing shows really inside religion freedom eh really think first time</td>\n",
       "    </tr>\n",
       "    <tr>\n",
       "      <th>5</th>\n",
       "      <td>long live his his holiness the 14th dalai lama</td>\n",
       "      <td>0.043182</td>\n",
       "      <td>1</td>\n",
       "      <td>en</td>\n",
       "      <td>long live his his holiness the 14th dalai lama</td>\n",
       "      <td>long live holiness 14th dalai lama</td>\n",
       "    </tr>\n",
       "    <tr>\n",
       "      <th>6</th>\n",
       "      <td>don’t simply imply your society guru’s act in somebody guru</td>\n",
       "      <td>0.000000</td>\n",
       "      <td>-1</td>\n",
       "      <td>en</td>\n",
       "      <td>dont simply imply your society gurus act in somebody guru</td>\n",
       "      <td>dont simply imply society gurus act somebody guru</td>\n",
       "    </tr>\n",
       "  </tbody>\n",
       "</table>\n",
       "</div>"
      ],
      "text/plain": [
       "                                                                                                                                                                                                                                 comments  \\\n",
       "0  there is absolutely no excuse for what was done to this child. it's sick, vile, disgusting and evil. period!!!! this literally makes me nauseous!! he would do that to my child once and it wouldn't ever happen again. that poor kid.   \n",
       "1                                                                                                                                                                                                    i stand for his holiness dalai lama    \n",
       "4                                                                           that dalai lama tongue action is disturbing. it shows who he really is on the inside.  religion, and freedom eh? do you really think this is his first time ?   \n",
       "5                                                                                                                                                                                          long live his his holiness the 14th dalai lama   \n",
       "6                                                                                                                                                                             don’t simply imply your society guru’s act in somebody guru   \n",
       "\n",
       "   polarity  pol_cat language  \\\n",
       "0 -0.617857       -1       en   \n",
       "1  0.000000       -1       en   \n",
       "4  0.050000        1       en   \n",
       "5  0.043182        1       en   \n",
       "6  0.000000       -1       en   \n",
       "\n",
       "                                                                                                                                                                                                             clean_comments  \\\n",
       "0  there is absolutely no excuse for what was done to this child its sick vile disgusting and evil period this literally makes me nauseous he would do that to my child once and it wouldnt ever happen again that poor kid   \n",
       "1                                                                                                                                                                                       i stand for his holiness dalai lama   \n",
       "4                                                                   that dalai lama tongue action is disturbing it shows who he really is on the inside  religion and freedom eh do you really think this is his first time   \n",
       "5                                                                                                                                                                            long live his his holiness the 14th dalai lama   \n",
       "6                                                                                                                                                                 dont simply imply your society gurus act in somebody guru   \n",
       "\n",
       "                                                                                                                     stop_comments  \n",
       "0  absolutely excuse done child sick vile disgusting evil period literally makes nauseous would child wouldnt ever happen poor kid  \n",
       "1                                                                                                        stand holiness dalai lama  \n",
       "4                              dalai lama tongue action disturbing shows really inside religion freedom eh really think first time  \n",
       "5                                                                                               long live holiness 14th dalai lama  \n",
       "6                                                                                dont simply imply society gurus act somebody guru  "
      ]
     },
     "execution_count": 840,
     "metadata": {},
     "output_type": "execute_result"
    }
   ],
   "source": [
    "df.head()"
   ]
  },
  {
   "cell_type": "code",
   "execution_count": 841,
   "id": "6c1c931d",
   "metadata": {},
   "outputs": [],
   "source": [
    "#Split the dataset into training and testing data\n",
    "X_train,X_test,y_train,y_test = train_test_split(df['stop_comments'],df['pol_cat'],test_size = 0.2,random_state = 324)"
   ]
  },
  {
   "cell_type": "code",
   "execution_count": 842,
   "id": "962ca087",
   "metadata": {},
   "outputs": [
    {
     "data": {
      "text/plain": [
       "(72,)"
      ]
     },
     "execution_count": 842,
     "metadata": {},
     "output_type": "execute_result"
    }
   ],
   "source": [
    "X_train.shape"
   ]
  },
  {
   "cell_type": "code",
   "execution_count": 843,
   "id": "6c6d58ff",
   "metadata": {},
   "outputs": [
    {
     "data": {
      "text/plain": [
       "(18,)"
      ]
     },
     "execution_count": 843,
     "metadata": {},
     "output_type": "execute_result"
    }
   ],
   "source": [
    "X_test.shape"
   ]
  },
  {
   "cell_type": "code",
   "execution_count": 844,
   "id": "4d862912",
   "metadata": {},
   "outputs": [
    {
     "data": {
      "text/plain": [
       "-1    46\n",
       " 1    44\n",
       "Name: pol_cat, dtype: int64"
      ]
     },
     "execution_count": 844,
     "metadata": {},
     "output_type": "execute_result"
    }
   ],
   "source": [
    "df['pol_cat'].value_counts()"
   ]
  },
  {
   "cell_type": "code",
   "execution_count": 845,
   "id": "eb970dff",
   "metadata": {},
   "outputs": [],
   "source": [
    "#Use Count Vectorizer to transform the data\n",
    "vect = CountVectorizer()\n",
    "tf_train = vect.fit_transform(X_train)\n",
    "tf_test = vect.transform(X_test)"
   ]
  },
  {
   "cell_type": "code",
   "execution_count": 846,
   "id": "8fd5751e",
   "metadata": {},
   "outputs": [
    {
     "data": {
      "text/plain": [
       "(72, 734)"
      ]
     },
     "execution_count": 846,
     "metadata": {},
     "output_type": "execute_result"
    }
   ],
   "source": [
    "tf_train.shape"
   ]
  },
  {
   "cell_type": "code",
   "execution_count": 847,
   "id": "7642711f",
   "metadata": {},
   "outputs": [
    {
     "name": "stdout",
     "output_type": "stream",
     "text": [
      "{'sinful': 600, 'man': 402, 'like': 379, 'anyone': 35, 'us': 693, 'hell': 295, 'say': 570, 'bad': 55, 'things': 652, 'dalai': 156, 'lama': 364, 'best': 67, 'international': 338, 'figure': 236, 'stay': 627, 'away': 51, 'controversy': 136, 'lost': 394, 'translation': 673, 'eat': 196, 'tongue': 666, 'tibetan': 659, 'phrase': 498, 'che': 105, 'la': 363, 'sa': 566, 'three': 656, 'sides': 594, 'every': 211, 'story': 629, 'came': 94, 'back': 53, 'deleted': 167, 'video': 699, 'seen': 579, 'whole': 714, 'play': 503, 'boy': 82, '45': 7, 'inches': 326, 'times': 662, 'alan': 25, 'watts': 707, 'understood': 685, 'spoke': 621, 'profound': 523, 'truth': 679, 'deeper': 161, 'manner': 404, 'ever': 210, 'find': 238, 'fascinating': 230, 'millions': 420, 'people': 492, 'believe': 65, 'feel': 233, 'great': 273, 'holy': 308, 'ps': 530, 'smoked': 606, 'ton': 665, 'cigarettes': 115, 'definitely': 166, 'wont': 721, 'let': 377, 'go': 266, 'false': 228, 'statement': 626, 'upon': 692, 'holiness': 306, 'wait': 705, 'sue': 636, 'defamation': 162, 'hurt': 316, 'buddhist': 90, 'devotees': 171, 'manipulating': 403, 'information': 331, 'easy': 195, 'days': 158, 'showing': 591, 'full': 253, 'rather': 539, 'croped': 148, 'edited': 197, 'one': 469, 'think': 653, 'speak': 615, 'absolutely': 10, 'excuse': 215, 'done': 186, 'child': 108, 'sick': 593, 'vile': 702, 'disgusting': 178, 'evil': 214, 'period': 496, 'literally': 384, 'makes': 399, 'nauseous': 444, 'would': 726, 'wouldnt': 727, 'happen': 286, 'poor': 509, 'kid': 351, 'sure': 639, 'looks': 392, 'creepy': 145, 'due': 191, 'respect': 560, 'boycott': 83, 'ndtv': 445, 'frustrate': 250, 'fake': 227, 'newsif': 451, 'want': 706, 'show': 590, 'put': 535, 'blur': 79, 'face': 225, 'dramatic': 189, 'music': 442, 'background': 54, 'look': 391, 'first': 239, 'placed': 501, 'childs': 110, 'hand': 284, 'lap': 367, 'held': 294, 'doesmt': 184, 'get': 258, 'mentioned': 416, 'cant': 99, 'noticed': 459, 'else': 201, 'could': 139, 'camera': 95, 'correct': 138, 'trump': 676, 'religion': 549, 'madenot': 397, 'god': 267, 'giventhats': 263, 'spirituality': 620, 'blame': 72, 'belief': 64, 'system': 641, 'parentspredators': 487, 'pray': 514, 'religious': 550, 'vulnerable': 704, 'children': 109, 'tell': 647, 'aroused': 39, 'asking': 42, 'didnt': 172, 'guy': 282, 'smelled': 605, 'even': 208, 'ok': 467, 'doesnt': 185, 'make': 398, 'right': 563, 'long': 390, 'live': 386, '14th': 2, 'mindboggling': 422, 'totally': 668, 'nonsense': 455, 'giant': 260, 'media': 410, 'platform': 502, 'upload': 691, 'kind': 354, 'misleading': 427, 'basis': 56, 'viral': 703, 'clip': 118, 'without': 719, 'knowing': 360, 'top': 667, 'went': 712, 'context': 135, 'expect': 220, 'something': 611, 'better': 68, 'judge': 346, 'tibetans': 660, 'told': 664, 'vice': 698, 'world': 725, 'news': 450, 'meaning': 408, 'common': 125, 'expression': 222, 'used': 695, 'tease': 646, 'teach': 645, 'completely': 129, 'cultural': 152, 'interpretation': 339, 'english': 203, 'joke': 344, 'le': 368, 'roughly': 565, 'translates': 672, 'lamas': 365, 'second': 574, 'language': 366, 'indian': 328, 'outlets': 482, 'previously': 518, 'reported': 552, 'leader': 369, 'speaks': 616, 'broken': 86, 'public': 531, 'events': 209, 'pity': 500, 'negative': 447, 'minded': 423, 'although': 31, 'says': 572, 'stands': 625, 'diversity': 183, 'views': 701, 'culture': 153, 'lens': 375, 'ask': 40, 'unedited': 686, 'moving': 437, 'thier': 650, 'sharp': 588, 'misguide': 426, 'others': 480, 'always': 32, 'open': 471, 'transparent': 674, 'crystal': 151, 'clear': 117, 'move': 436, 'free': 245, 'negativities': 448, 'guilt': 277, 'ordinary': 476, 'purpose': 534, 'grandfatherly': 272, 'love': 396, 'affection': 21, 'asked': 41, 'hug': 310, 'toxic': 670, 'use': 694, 'innocent': 332, 'difference': 173, 'boys': 84, 'mother': 433, 'happily': 288, 'giving': 265, 'interviews': 340, 'meeting': 412, 'dont': 187, 'try': 680, 'fuel': 251, 'typical': 681, 'channel': 103, 'ill': 320, 'call': 93, 'sanjay': 569, 'dutt': 193, 'action': 16, 'disturbing': 181, 'shows': 592, 'really': 541, 'inside': 334, 'freedom': 246, 'eh': 198, 'time': 661, 'soul': 614, 'proves': 528, 'nobody': 454, 'perfect': 495, 'human': 312, 'way': 708, 'thought': 655, 'comfortable': 122, 'thats': 649, 'traditional': 671, 'gesture': 256, 'bytheway': 92, 'coming': 123, 'criticism': 147, 'inevitable': 330, 'part': 488, 'life': 378, 'allows': 28, 'improve': 324, 'grow': 276, 'individuals': 329, 'also': 30, 'important': 323, 'develop': 170, 'healthy': 293, 'mindset': 424, 'selfesteem': 580, 'order': 475, 'handle': 285, 'positive': 510, 'bless': 74, 'circumstances': 116, 'acceptable': 13, 'videos': 700, 'kids': 353, 'many': 405, 'appearances': 38, 'person': 497, 'offensive': 463, 'front': 249, '100': 0, 'cameras': 96, 'real': 540, 'molester': 430, 'never': 449, 'acts': 17, 'ful': 252, 'usually': 697, 'filled': 237, 'hate': 291, 'everything': 213, 'defame': 163, 'karma': 347, 'act': 15, 'putting': 536, 'image': 321, 'simply': 597, 'imply': 322, 'society': 608, 'gurus': 281, 'somebody': 609, 'guru': 279, 'please': 505, 'humble': 313, 'request': 557, 'potrate': 512, 'wrong': 728, 'message': 417, 'equally': 206, 'responsible': 561, 'distributing': 180, 'small': 603, 'community': 126, 'nothe': 458, 'brought': 87, 'prevails': 517, 'becareful': 59, 'insult': 336, 'elders': 200, 'learnt': 372, 'age': 24, '40': 6, 'promote': 524, 'kindness': 355, 'compassion': 127, 'spread': 623, 'peacelove': 491, 'positivity': 511, 'learned': 371, 'years': 731, 'ignoring': 319, 'comments': 124, 'hisfamilys': 301, 'lose': 393, 'trust': 678, 'mediawith': 411, 'know': 359, 'sincere': 599, 'followers': 240, 'envy': 205, 'family': 229, 'getting': 259, 'close': 119, 'special': 617, 'blessings': 77, 'happened': 287, 'authorities': 50, 'private': 519, 'office': 464, 'gave': 254, 'prvilege': 529, 'allowing': 27, 'direct': 176, 'access': 14, 'living': 388, 'compassionate': 128, 'buddha': 88, 'trun': 677, 'seeing': 576, 'host': 309, 'country': 140, 'spiritual': 619, 'modesty': 429, 'humbleness': 314, 'playfully': 504, 'suck': 635, 'hisvajra': 302, 'consider': 133, 'precious': 515, 'blessing': 76, 'offices': 465, 'entourage': 204, 'allow': 26, 'audience': 49, 'seekers': 578, 'seek': 577, 'holinesss': 307, 'feet': 234, 'true': 675, 'deciples': 160, 'dying': 194, 'take': 643, 'left': 374, 'food': 241, 'tea': 644, 'grand': 270, 'fathers': 231, 'mothers': 434, 'kiss': 356, 'often': 466, 'kissed': 357, '16': 3, 'little': 385, 'knowledge': 361, 'limitless': 380, 'universe': 689, 'beings': 63, 'existence': 219, 'extinction': 223, 'making': 400, 'big': 71, 'issue': 342, 'opportunity': 473, 'got': 269, 'someone': 610, 'morality': 432, 'smell': 604, 'sweet': 640, 'nectar': 446, 'comes': 121, 'sign': 596, 'mundance': 439, 'desire': 168, 'wise': 716, 'concernced': 130, 'apologise': 36, 'ignorance': 317, 'book': 80, 'cover': 141, '49': 8, 'mixes': 428, 'words': 723, 'sometimes': 612, 'locked': 389, 'happy': 289, 'shame': 587, 'thing': 651, 'stand': 624, 'humorous': 315, 'extremely': 224, 'spontaneous': 622, 'beautiful': 58, 'qualities': 537, 'aspire': 45, 'pure': 533, 'untainted': 690, 'fear': 232, 'restrictions': 562, 'social': 607, 'norms': 457, 'bound': 81, 'addition': 19, 'unique': 687, 'well': 711, 'monk': 431, 'lives': 387, 'separately': 582, 'regular': 548, 'whose': 715, 'interactions': 337, 'almost': 29, 'formal': 242, 'setting': 584, 'hence': 297, 'unaware': 682, 'learn': 370, 'conditioning': 132, 'experience': 221, 'proud': 527, 'tibet': 658, 'behind': 62, 'may': 407, 'ccp': 102, 'break': 85, 'unity': 688, 'strong': 632, 'stronger': 633, 'whatever': 713, 'lots': 395, 'campassion': 97, 'peace': 490, 'closed': 120, 'doors': 188, 'witnesses': 720, 'empathy': 202, 'blockheads': 78, 'believing': 66, 'attribute': 48, 'research': 558, 'assumptions': 46, 'inshort': 333, 'abuse': 11, 'yes': 732, 'greet': 274, 'everyone': 212, 'gestyre': 257, 'especially': 207, 'strangers': 630, 'wish': 717, 'kept': 350, 'holding': 304, 'hugging': 311, 'sorry': 613, 'given': 262, 'sensual': 581, 'abuses': 12, 'existed': 218, 'within': 718, 'organization': 478, 'covered': 142, 'excuses': 216, 'see': 575, 'defense': 165, 'strategy': 631, 'protect': 525, 'reputation': 556, 'reproach': 555, 'opinion': 472, 'india': 327, 'pakistan': 484, 'cracked': 143, 'female': 235, 'attractive': 47, 'scenario': 573, 'weight': 710, 'originally': 479, 'dalis': 157, 'uses': 696, 'word': 722, 'organ': 477, 'recite': 544, 'texts': 648, 'oral': 474, 'sex': 585, 'taboo': 642, 'asks': 43, 'gift': 261, 'elderly': 199, 'replies': 551, 'ive': 343, 'kissing': 358, 'ones': 470, 'beyond': 69, 'sexual': 586, 'affiliation': 22, 'grew': 275, 'parents': 486, 'chew': 107, 'meat': 409, 'mouth': 435, 'nourishing': 460, 'caring': 100, 'diverse': 182, 'cultures': 154, 'practice': 513, 'ways': 709, 'outsiders': 483, 'might': 419, 'keep': 348, 'mind': 421, 'behaviour': 61, 'perceived': 494, 'inappropriate': 325, 'different': 175, 'recently': 543, 'received': 542, 'gold': 268, 'listened': 383, 'podcast': 506, 'robert': 564, 'thurman': 657, 'saying': 571, 'grandfather': 271, 'gives': 264, 'candy': 98, 'jokes': 345, 'reference': 547, 'instead': 335, 'malicious': 401, 'china': 111, 'much': 438, 'discredit': 177, 'chinas': 112, 'puppet': 532, 'panchen': 485, 'chose': 114, 'politically': 508, 'passes': 489, 'year': 730, 'old': 468, 'kidnapped': 352, 'recognized': 545, '14': 1, '1995': 4, 'probably': 520, 'murdered': 440, 'since': 598, 'convenient': 137, 'critical': 146, 'found': 243, 'another': 34, 'successor': 634, 'problem': 521, 'murdering': 441, 'babies': 52, 'poisoning': 507, '300000': 5, 'deadly': 159, 'chemical': 106, 'melamine': 413, 'higher': 300, 'protein': 526, 'single': 601, 'driving': 190, 'nuts': 462, 'skin': 602, 'crawl': 144, 'sight': 595, 'america': 33, 'desperately': 169, 'friend': 247, 'specifically': 618, 'lips': 381, 'freaked': 244, 'nice': 452, 'normal': 456, 'understand': 683, 'behavior': 60, 'thinkthat': 654, 'actually': 18, 'concerned': 131, 'minors': 425, 'safety': 567, 'ye': 729, 'kuch': 362, 'bi': 70, 'keheta': 349, 'hey': 298, 'agar': 23, 'iska': 341, 'bat': 57, 'suntne': 638, 'rahenge': 538, 'toh': 663, 'duniya': 192, 'sum': 637, 'sam': 568, 'hojayege': 303, 'mey': 418, 'listen': 382, 'setisfy': 583, 'lesion': 376, 'buddist': 91, 'recpect': 546, 'nobel': 453, 'resion': 559, 'guruji': 280, 'tounges': 669, 'cause': 101, 'problems': 522, 'members': 414, 'friends': 248, 'peoples': 493, 'cropped': 149, 'help': 296, 'least': 373, 'shouldnt': 589, 'harming': 290, 'apologized': 37, 'cruel': 150, 'understanding': 684, 'differences': 174, 'working': 724, '60': 9, 'yrs': 733, 'still': 628, 'blaming': 73, 'hh': 299, 'blessed': 75, 'otherwise': 481, 'guilty': 278, 'charged': 104, 'men': 415, 'adults': 20, 'exist': 217, 'aspects': 44, 'choose': 113, 'ignore': 318, 'fact': 226, 'reporter': 553, 'must': 443, 'hatred': 292, 'disheartening': 179, 'reporters': 554, 'half': 283, 'defaming': 164, 'holiest': 305, 'buddhism': 89, 'physical': 499, 'contact': 134, 'general': 255, 'nowwho': 461, 'matter': 406, 'custom': 155, 'pressure': 516}\n"
     ]
    }
   ],
   "source": [
    "#Print vocabulary\n",
    "print(vect.vocabulary_)"
   ]
  },
  {
   "cell_type": "code",
   "execution_count": 848,
   "id": "dbb59119",
   "metadata": {},
   "outputs": [],
   "source": [
    "vocab = vect.vocabulary_"
   ]
  },
  {
   "cell_type": "code",
   "execution_count": 849,
   "id": "3f2e11cc",
   "metadata": {},
   "outputs": [
    {
     "data": {
      "text/plain": [
       "LogisticRegression()"
      ]
     },
     "execution_count": 849,
     "metadata": {},
     "output_type": "execute_result"
    }
   ],
   "source": [
    "#Build Logistic model\n",
    "lr = LogisticRegression()\n",
    "lr.fit(tf_train,y_train)"
   ]
  },
  {
   "cell_type": "code",
   "execution_count": 850,
   "id": "59aee5b6",
   "metadata": {},
   "outputs": [
    {
     "data": {
      "text/plain": [
       "1.0"
      ]
     },
     "execution_count": 850,
     "metadata": {},
     "output_type": "execute_result"
    }
   ],
   "source": [
    "#Accuracy score for train data \n",
    "lr.score(tf_train,y_train)"
   ]
  },
  {
   "cell_type": "code",
   "execution_count": 851,
   "id": "582a382f",
   "metadata": {},
   "outputs": [
    {
     "data": {
      "text/plain": [
       "0.7222222222222222"
      ]
     },
     "execution_count": 851,
     "metadata": {},
     "output_type": "execute_result"
    }
   ],
   "source": [
    "#Accuracy score for test data \n",
    "lr.score(tf_test,y_test)"
   ]
  },
  {
   "cell_type": "code",
   "execution_count": 852,
   "id": "188ebb6a",
   "metadata": {},
   "outputs": [],
   "source": [
    "predicted_lr = lr.predict(tf_test) #prediction for Logistic model"
   ]
  },
  {
   "cell_type": "code",
   "execution_count": 853,
   "id": "73fa044e",
   "metadata": {},
   "outputs": [],
   "source": [
    "#Build Multinomial model\n",
    "model=MultinomialNB()\n"
   ]
  },
  {
   "cell_type": "code",
   "execution_count": 854,
   "id": "64822439",
   "metadata": {},
   "outputs": [
    {
     "data": {
      "text/plain": [
       "MultinomialNB()"
      ]
     },
     "execution_count": 854,
     "metadata": {},
     "output_type": "execute_result"
    }
   ],
   "source": [
    "#Fit the model\n",
    "model.fit(tf_train, y_train)"
   ]
  },
  {
   "cell_type": "code",
   "execution_count": 855,
   "id": "95d4a4fa",
   "metadata": {},
   "outputs": [
    {
     "data": {
      "text/plain": [
       "0.9722222222222222"
      ]
     },
     "execution_count": 855,
     "metadata": {},
     "output_type": "execute_result"
    }
   ],
   "source": [
    "#Accuracy score for train data \n",
    "model.score(tf_train,y_train)"
   ]
  },
  {
   "cell_type": "code",
   "execution_count": 856,
   "id": "3ef6bd59",
   "metadata": {},
   "outputs": [
    {
     "data": {
      "text/plain": [
       "0.7222222222222222"
      ]
     },
     "execution_count": 856,
     "metadata": {},
     "output_type": "execute_result"
    }
   ],
   "source": [
    "#Accuracy score for test data \n",
    "model.score(tf_test,y_test)"
   ]
  },
  {
   "cell_type": "code",
   "execution_count": 857,
   "id": "cb7f647d",
   "metadata": {},
   "outputs": [],
   "source": [
    "expected = y_test"
   ]
  },
  {
   "cell_type": "code",
   "execution_count": 858,
   "id": "5ee505ca",
   "metadata": {},
   "outputs": [],
   "source": [
    "predicted_mnb = model.predict(tf_test) #prediction for MultinomialNB model"
   ]
  },
  {
   "cell_type": "code",
   "execution_count": 859,
   "id": "a6b25653",
   "metadata": {},
   "outputs": [
    {
     "name": "stdout",
     "output_type": "stream",
     "text": [
      "Classification Report for Multionmial Naive Baye's algorithm:\n",
      "               precision    recall  f1-score   support\n",
      "\n",
      "          -1       0.62      0.71      0.67         7\n",
      "           1       0.80      0.73      0.76        11\n",
      "\n",
      "    accuracy                           0.72        18\n",
      "   macro avg       0.71      0.72      0.71        18\n",
      "weighted avg       0.73      0.72      0.72        18\n",
      "\n"
     ]
    }
   ],
   "source": [
    "#Prepare classification report for Multionmial Naive Baye's algorithm\n",
    "cf_mnb=classification_report(expected, predicted_mnb)\n",
    "print(\"Classification Report for Multionmial Naive Baye's algorithm:\\n\", cf_mnb)\n"
   ]
  },
  {
   "cell_type": "code",
   "execution_count": 860,
   "id": "79405bcd",
   "metadata": {},
   "outputs": [
    {
     "name": "stdout",
     "output_type": "stream",
     "text": [
      "Classification Report for Logistic Regression algorithm:\n",
      "               precision    recall  f1-score   support\n",
      "\n",
      "          -1       0.58      1.00      0.74         7\n",
      "           1       1.00      0.55      0.71        11\n",
      "\n",
      "    accuracy                           0.72        18\n",
      "   macro avg       0.79      0.77      0.72        18\n",
      "weighted avg       0.84      0.72      0.72        18\n",
      "\n"
     ]
    }
   ],
   "source": [
    "#Prepare classification report for Logistic Regression algorithm\n",
    "cf_lr=classification_report(expected, predicted_lr)\n",
    "print(\"Classification Report for Logistic Regression algorithm:\\n\", cf_lr)"
   ]
  }
 ],
 "metadata": {
  "kernelspec": {
   "display_name": "Python 3 (ipykernel)",
   "language": "python",
   "name": "python3"
  },
  "language_info": {
   "codemirror_mode": {
    "name": "ipython",
    "version": 3
   },
   "file_extension": ".py",
   "mimetype": "text/x-python",
   "name": "python",
   "nbconvert_exporter": "python",
   "pygments_lexer": "ipython3",
   "version": "3.9.13"
  }
 },
 "nbformat": 4,
 "nbformat_minor": 5
}
